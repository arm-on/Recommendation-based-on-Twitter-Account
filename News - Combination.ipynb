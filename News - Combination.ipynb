{
 "cells": [
  {
   "cell_type": "code",
   "execution_count": 2,
   "metadata": {},
   "outputs": [],
   "source": [
    "import findspark"
   ]
  },
  {
   "cell_type": "code",
   "execution_count": 3,
   "metadata": {},
   "outputs": [],
   "source": [
    "findspark.init('/spark')"
   ]
  },
  {
   "cell_type": "code",
   "execution_count": 4,
   "metadata": {},
   "outputs": [],
   "source": [
    "from pyspark.sql import SparkSession as SS"
   ]
  },
  {
   "cell_type": "code",
   "execution_count": 5,
   "metadata": {},
   "outputs": [],
   "source": [
    "spark = SS.builder.appName('newscombination').getOrCreate()"
   ]
  },
  {
   "cell_type": "code",
   "execution_count": 6,
   "metadata": {},
   "outputs": [],
   "source": [
    "news_category_df = spark.read.json('News_Category_Dataset.json')"
   ]
  },
  {
   "cell_type": "code",
   "execution_count": 7,
   "metadata": {},
   "outputs": [
    {
     "name": "stdout",
     "output_type": "stream",
     "text": [
      "+---------------+-------------+----------+--------------------+--------------------+--------------------+\n",
      "|        authors|     category|      date|            headline|                link|   short_description|\n",
      "+---------------+-------------+----------+--------------------+--------------------+--------------------+\n",
      "|Melissa Jeltsen|        CRIME|2018-05-26|There Were 2 Mass...|https://www.huffi...|She left her husb...|\n",
      "|  Andy McDonald|ENTERTAINMENT|2018-05-26|Will Smith Joins ...|https://www.huffi...|Of course it has ...|\n",
      "|     Ron Dicker|ENTERTAINMENT|2018-05-26|Hugh Grant Marrie...|https://www.huffi...|The actor and his...|\n",
      "|     Ron Dicker|ENTERTAINMENT|2018-05-26|Jim Carrey Blasts...|https://www.huffi...|The actor gives D...|\n",
      "|     Ron Dicker|ENTERTAINMENT|2018-05-26|Julianna Margulie...|https://www.huffi...|The \"Dietland\" ac...|\n",
      "+---------------+-------------+----------+--------------------+--------------------+--------------------+\n",
      "only showing top 5 rows\n",
      "\n"
     ]
    }
   ],
   "source": [
    "news_category_df.show(5)"
   ]
  },
  {
   "cell_type": "code",
   "execution_count": 8,
   "metadata": {},
   "outputs": [],
   "source": [
    "from pyspark.sql.functions import col"
   ]
  },
  {
   "cell_type": "code",
   "execution_count": 9,
   "metadata": {},
   "outputs": [
    {
     "name": "stdout",
     "output_type": "stream",
     "text": [
      "+--------------+-----+\n",
      "|      category|count|\n",
      "+--------------+-----+\n",
      "|      POLITICS|32739|\n",
      "| ENTERTAINMENT|14257|\n",
      "|HEALTHY LIVING| 6694|\n",
      "|  QUEER VOICES| 4995|\n",
      "|      BUSINESS| 4254|\n",
      "|        SPORTS| 4167|\n",
      "|        COMEDY| 3971|\n",
      "|       PARENTS| 3955|\n",
      "|  BLACK VOICES| 3858|\n",
      "| THE WORLDPOST| 3664|\n",
      "|         WOMEN| 3490|\n",
      "|         CRIME| 2893|\n",
      "|         MEDIA| 2815|\n",
      "|    WEIRD NEWS| 2670|\n",
      "|         GREEN| 2622|\n",
      "|        IMPACT| 2602|\n",
      "|     WORLDPOST| 2579|\n",
      "|      RELIGION| 2556|\n",
      "|         STYLE| 2254|\n",
      "|    WORLD NEWS| 2177|\n",
      "+--------------+-----+\n",
      "only showing top 20 rows\n",
      "\n"
     ]
    }
   ],
   "source": [
    "news_category_df.groupBy(\"category\") \\\n",
    "    .count() \\\n",
    "    .orderBy(col(\"count\").desc()) \\\n",
    "    .show()"
   ]
  },
  {
   "cell_type": "code",
   "execution_count": 10,
   "metadata": {},
   "outputs": [],
   "source": [
    "politics_news = news_category_df.filter(\"category = 'POLITICS'\").select('headline','category')"
   ]
  },
  {
   "cell_type": "code",
   "execution_count": 11,
   "metadata": {},
   "outputs": [],
   "source": [
    "politics_news = politics_news.withColumnRenamed('headline','text').withColumnRenamed('category','label')"
   ]
  },
  {
   "cell_type": "code",
   "execution_count": 12,
   "metadata": {},
   "outputs": [],
   "source": [
    "uci_news = spark.read.csv('uci-news-aggregator.csv',inferSchema=True, header=True)"
   ]
  },
  {
   "cell_type": "code",
   "execution_count": 13,
   "metadata": {},
   "outputs": [
    {
     "name": "stdout",
     "output_type": "stream",
     "text": [
      "+---+--------------------+--------------------+-----------------+--------+--------------------+-------------------+-------------+\n",
      "| ID|               TITLE|                 URL|        PUBLISHER|CATEGORY|               STORY|           HOSTNAME|    TIMESTAMP|\n",
      "+---+--------------------+--------------------+-----------------+--------+--------------------+-------------------+-------------+\n",
      "|  1|Fed official says...|http://www.latime...|Los Angeles Times|       b|ddUyU0VZz0BRneMio...|    www.latimes.com|1394470370698|\n",
      "|  2|Fed's Charles Plo...|http://www.livemi...|         Livemint|       b|ddUyU0VZz0BRneMio...|   www.livemint.com|1394470371207|\n",
      "|  3|US open: Stocks f...|http://www.ifamag...|     IFA Magazine|       b|ddUyU0VZz0BRneMio...|www.ifamagazine.com|1394470371550|\n",
      "|  4|Fed risks falling...|http://www.ifamag...|     IFA Magazine|       b|ddUyU0VZz0BRneMio...|www.ifamagazine.com|1394470371793|\n",
      "|  5|Fed's Plosser: Na...|http://www.moneyn...|        Moneynews|       b|ddUyU0VZz0BRneMio...|  www.moneynews.com|1394470372027|\n",
      "+---+--------------------+--------------------+-----------------+--------+--------------------+-------------------+-------------+\n",
      "only showing top 5 rows\n",
      "\n"
     ]
    }
   ],
   "source": [
    "uci_news.show(5)"
   ]
  },
  {
   "cell_type": "code",
   "execution_count": 14,
   "metadata": {},
   "outputs": [
    {
     "name": "stdout",
     "output_type": "stream",
     "text": [
      "+--------------------+------+\n",
      "|            CATEGORY| count|\n",
      "+--------------------+------+\n",
      "|                   e|152127|\n",
      "|                   b|115935|\n",
      "|                   t|108237|\n",
      "|                   m| 45616|\n",
      "|                null|   516|\n",
      "|         Us Magazine|    31|\n",
      "|    Contactmusic.com|    20|\n",
      "|           GossipCop|    20|\n",
      "|         Complex.com|    12|\n",
      "|            CBS News|    12|\n",
      "|The Hollywood Gossip|    11|\n",
      "|            HipHopDX|    11|\n",
      "|  HeadlinePlanet.com|    10|\n",
      "| We Got This Covered|    10|\n",
      "|             Gamepur|     8|\n",
      "|   WorstPreviews.com|     7|\n",
      "|          TooFab.com|     7|\n",
      "|Consequence of Sound|     7|\n",
      "|            Wetpaint|     7|\n",
      "|        The Escapist|     6|\n",
      "+--------------------+------+\n",
      "only showing top 20 rows\n",
      "\n"
     ]
    }
   ],
   "source": [
    "uci_news.groupBy(\"CATEGORY\") \\\n",
    "    .count() \\\n",
    "    .orderBy(col(\"count\").desc()) \\\n",
    "    .show()"
   ]
  },
  {
   "cell_type": "code",
   "execution_count": 15,
   "metadata": {},
   "outputs": [],
   "source": [
    "uci_news = uci_news.select('TITLE','CATEGORY')"
   ]
  },
  {
   "cell_type": "code",
   "execution_count": 16,
   "metadata": {},
   "outputs": [],
   "source": [
    "uci_news = uci_news.withColumnRenamed('TITLE','text').withColumnRenamed('CATEGORY','label')"
   ]
  },
  {
   "cell_type": "code",
   "execution_count": 17,
   "metadata": {},
   "outputs": [
    {
     "name": "stdout",
     "output_type": "stream",
     "text": [
      "+--------------------+------+\n",
      "|               label| count|\n",
      "+--------------------+------+\n",
      "|                   e|152127|\n",
      "|                   b|115935|\n",
      "|                   t|108237|\n",
      "|                   m| 45616|\n",
      "|                null|   516|\n",
      "|         Us Magazine|    31|\n",
      "|    Contactmusic.com|    20|\n",
      "|           GossipCop|    20|\n",
      "|            CBS News|    12|\n",
      "|         Complex.com|    12|\n",
      "|            HipHopDX|    11|\n",
      "|The Hollywood Gossip|    11|\n",
      "| We Got This Covered|    10|\n",
      "|  HeadlinePlanet.com|    10|\n",
      "|             Gamepur|     8|\n",
      "|          TooFab.com|     7|\n",
      "|Consequence of Sound|     7|\n",
      "|   WorstPreviews.com|     7|\n",
      "|            Wetpaint|     7|\n",
      "|        The Escapist|     6|\n",
      "+--------------------+------+\n",
      "only showing top 20 rows\n",
      "\n"
     ]
    }
   ],
   "source": [
    "uci_news.groupBy(\"label\") \\\n",
    "    .count() \\\n",
    "    .orderBy(col(\"count\").desc()) \\\n",
    "    .show()"
   ]
  },
  {
   "cell_type": "code",
   "execution_count": 18,
   "metadata": {},
   "outputs": [],
   "source": [
    "uci_news = uci_news.filter(\"label = 'e' or label = 'b' or label = 't' or label = 'm'\")"
   ]
  },
  {
   "cell_type": "code",
   "execution_count": 19,
   "metadata": {},
   "outputs": [
    {
     "name": "stdout",
     "output_type": "stream",
     "text": [
      "+-----+------+\n",
      "|label| count|\n",
      "+-----+------+\n",
      "|    e|152127|\n",
      "|    b|115935|\n",
      "|    t|108237|\n",
      "|    m| 45616|\n",
      "+-----+------+\n",
      "\n"
     ]
    }
   ],
   "source": [
    "uci_news.groupBy(\"label\") \\\n",
    "    .count() \\\n",
    "    .orderBy(col(\"count\").desc()) \\\n",
    "    .show()"
   ]
  },
  {
   "cell_type": "code",
   "execution_count": 20,
   "metadata": {},
   "outputs": [],
   "source": [
    "import functools "
   ]
  },
  {
   "cell_type": "code",
   "execution_count": 21,
   "metadata": {},
   "outputs": [],
   "source": [
    "def unionAll(dfs):\n",
    "    return functools.reduce(lambda df1,df2: df1.union(df2.select(df1.columns)), dfs) "
   ]
  },
  {
   "cell_type": "code",
   "execution_count": 22,
   "metadata": {},
   "outputs": [
    {
     "name": "stdout",
     "output_type": "stream",
     "text": [
      "root\n",
      " |-- text: string (nullable = true)\n",
      " |-- label: string (nullable = true)\n",
      "\n"
     ]
    }
   ],
   "source": [
    "uci_news.printSchema()"
   ]
  },
  {
   "cell_type": "code",
   "execution_count": 23,
   "metadata": {},
   "outputs": [
    {
     "name": "stdout",
     "output_type": "stream",
     "text": [
      "root\n",
      " |-- text: string (nullable = true)\n",
      " |-- label: string (nullable = true)\n",
      "\n"
     ]
    }
   ],
   "source": [
    "politics_news.printSchema()"
   ]
  },
  {
   "cell_type": "code",
   "execution_count": 24,
   "metadata": {},
   "outputs": [],
   "source": [
    "combined_news = unionAll([uci_news,politics_news])"
   ]
  },
  {
   "cell_type": "code",
   "execution_count": 25,
   "metadata": {},
   "outputs": [
    {
     "name": "stdout",
     "output_type": "stream",
     "text": [
      "root\n",
      " |-- text: string (nullable = true)\n",
      " |-- label: string (nullable = true)\n",
      "\n"
     ]
    }
   ],
   "source": [
    "combined_news.printSchema()"
   ]
  },
  {
   "cell_type": "code",
   "execution_count": 26,
   "metadata": {},
   "outputs": [
    {
     "name": "stdout",
     "output_type": "stream",
     "text": [
      "+--------+------+\n",
      "|   label| count|\n",
      "+--------+------+\n",
      "|       e|152127|\n",
      "|       b|115935|\n",
      "|       t|108237|\n",
      "|       m| 45616|\n",
      "|POLITICS| 32739|\n",
      "+--------+------+\n",
      "\n"
     ]
    }
   ],
   "source": [
    "combined_news.groupBy(\"label\") \\\n",
    "    .count() \\\n",
    "    .orderBy(col(\"count\").desc()) \\\n",
    "    .show()"
   ]
  },
  {
   "cell_type": "code",
   "execution_count": 27,
   "metadata": {},
   "outputs": [],
   "source": [
    "entertainment_news = combined_news.filter(\"label = 'e'\")"
   ]
  },
  {
   "cell_type": "code",
   "execution_count": 28,
   "metadata": {},
   "outputs": [],
   "source": [
    "business_news = combined_news.filter(\"label = 'b'\")"
   ]
  },
  {
   "cell_type": "code",
   "execution_count": 29,
   "metadata": {},
   "outputs": [],
   "source": [
    "science_and_technology_news = combined_news.filter(\"label = 't'\")"
   ]
  },
  {
   "cell_type": "code",
   "execution_count": 30,
   "metadata": {},
   "outputs": [],
   "source": [
    "health_news = combined_news.filter(\"label = 'm'\")"
   ]
  },
  {
   "cell_type": "code",
   "execution_count": 31,
   "metadata": {},
   "outputs": [],
   "source": [
    "entertainment_news.createOrReplaceTempView('e')"
   ]
  },
  {
   "cell_type": "code",
   "execution_count": 32,
   "metadata": {},
   "outputs": [],
   "source": [
    "entertainment_news = spark.sql(\"select text,'ENTERTAINMENT' as label from e\")"
   ]
  },
  {
   "cell_type": "code",
   "execution_count": 33,
   "metadata": {},
   "outputs": [],
   "source": [
    "business_news.createOrReplaceTempView('b')"
   ]
  },
  {
   "cell_type": "code",
   "execution_count": 34,
   "metadata": {},
   "outputs": [],
   "source": [
    "business_news = spark.sql(\"select text,'BUSINESS' as label from b\")"
   ]
  },
  {
   "cell_type": "code",
   "execution_count": 35,
   "metadata": {},
   "outputs": [],
   "source": [
    "science_and_technology_news.createOrReplaceTempView('t')"
   ]
  },
  {
   "cell_type": "code",
   "execution_count": 36,
   "metadata": {},
   "outputs": [],
   "source": [
    "science_and_technology_news = spark.sql(\"select text,'SCIENCETECHNOLOGY' as label from t\")"
   ]
  },
  {
   "cell_type": "code",
   "execution_count": 37,
   "metadata": {},
   "outputs": [],
   "source": [
    "health_news.createOrReplaceTempView('m')"
   ]
  },
  {
   "cell_type": "code",
   "execution_count": 38,
   "metadata": {},
   "outputs": [],
   "source": [
    "health_news = spark.sql(\"select text,'HEALTH' as label from m\")"
   ]
  },
  {
   "cell_type": "code",
   "execution_count": 39,
   "metadata": {},
   "outputs": [],
   "source": [
    "news_with_corrected_labels = unionAll([health_news,entertainment_news,science_and_technology_news,business_news,politics_news])"
   ]
  },
  {
   "cell_type": "code",
   "execution_count": 40,
   "metadata": {},
   "outputs": [
    {
     "name": "stdout",
     "output_type": "stream",
     "text": [
      "+-----------------+------+\n",
      "|            label| count|\n",
      "+-----------------+------+\n",
      "|    ENTERTAINMENT|152127|\n",
      "|         BUSINESS|115935|\n",
      "|SCIENCETECHNOLOGY|108237|\n",
      "|           HEALTH| 45616|\n",
      "|         POLITICS| 32739|\n",
      "+-----------------+------+\n",
      "\n"
     ]
    }
   ],
   "source": [
    "news_with_corrected_labels.groupBy(\"label\") \\\n",
    "    .count() \\\n",
    "    .orderBy(col(\"count\").desc()) \\\n",
    "    .show()"
   ]
  },
  {
   "cell_type": "code",
   "execution_count": 41,
   "metadata": {},
   "outputs": [],
   "source": [
    "training, test = news_with_corrected_labels.randomSplit([0.7,0.3])"
   ]
  },
  {
   "cell_type": "code",
   "execution_count": 42,
   "metadata": {},
   "outputs": [
    {
     "name": "stdout",
     "output_type": "stream",
     "text": [
      "+-----------------+------+\n",
      "|            label| count|\n",
      "+-----------------+------+\n",
      "|    ENTERTAINMENT|106631|\n",
      "|         BUSINESS| 81271|\n",
      "|SCIENCETECHNOLOGY| 75802|\n",
      "|           HEALTH| 32017|\n",
      "|         POLITICS| 22962|\n",
      "+-----------------+------+\n",
      "\n"
     ]
    }
   ],
   "source": [
    "training.groupBy(\"label\") \\\n",
    "    .count() \\\n",
    "    .orderBy(col(\"count\").desc()) \\\n",
    "    .show()"
   ]
  },
  {
   "cell_type": "code",
   "execution_count": 43,
   "metadata": {},
   "outputs": [
    {
     "name": "stdout",
     "output_type": "stream",
     "text": [
      "+-----------------+-----+\n",
      "|            label|count|\n",
      "+-----------------+-----+\n",
      "|    ENTERTAINMENT|45496|\n",
      "|         BUSINESS|34664|\n",
      "|SCIENCETECHNOLOGY|32435|\n",
      "|           HEALTH|13599|\n",
      "|         POLITICS| 9777|\n",
      "+-----------------+-----+\n",
      "\n"
     ]
    }
   ],
   "source": [
    "test.groupBy(\"label\") \\\n",
    "    .count() \\\n",
    "    .orderBy(col(\"count\").desc()) \\\n",
    "    .show()"
   ]
  },
  {
   "cell_type": "code",
   "execution_count": 44,
   "metadata": {},
   "outputs": [],
   "source": [
    "training_list = training.collect()"
   ]
  },
  {
   "cell_type": "code",
   "execution_count": 45,
   "metadata": {},
   "outputs": [],
   "source": [
    "test_list = test.collect()"
   ]
  },
  {
   "cell_type": "code",
   "execution_count": 46,
   "metadata": {},
   "outputs": [],
   "source": [
    "for item in training_list:\n",
    "    label = '__label__'+item['label']\n",
    "    label = label.replace(' ', '')\n",
    "    text = item['text']\n",
    "    the_string = label+' '+text+'\\n'\n",
    "    with open(\"combinednews.train\", \"a\") as myfile:\n",
    "        myfile.write(the_string)"
   ]
  },
  {
   "cell_type": "code",
   "execution_count": 47,
   "metadata": {},
   "outputs": [],
   "source": [
    "for item in test_list:\n",
    "    label = '__label__'+item['label']\n",
    "    label = label.replace(' ', '')\n",
    "    text = item['text']\n",
    "    the_string = label+' '+text+'\\n'\n",
    "    with open(\"combinednews.test\", \"a\") as myfile:\n",
    "        myfile.write(the_string)"
   ]
  },
  {
   "cell_type": "code",
   "execution_count": 48,
   "metadata": {},
   "outputs": [],
   "source": [
    "###### this combination is just the combination of uci news and politics from the other set\n",
    "#### acuracy: 90%"
   ]
  },
  {
   "cell_type": "code",
   "execution_count": 49,
   "metadata": {},
   "outputs": [
    {
     "name": "stdout",
     "output_type": "stream",
     "text": [
      "+--------------+-----+\n",
      "|      category|count|\n",
      "+--------------+-----+\n",
      "|      POLITICS|32739|\n",
      "| ENTERTAINMENT|14257|\n",
      "|HEALTHY LIVING| 6694|\n",
      "|  QUEER VOICES| 4995|\n",
      "|      BUSINESS| 4254|\n",
      "|        SPORTS| 4167|\n",
      "|        COMEDY| 3971|\n",
      "|       PARENTS| 3955|\n",
      "|  BLACK VOICES| 3858|\n",
      "| THE WORLDPOST| 3664|\n",
      "|         WOMEN| 3490|\n",
      "|         CRIME| 2893|\n",
      "|         MEDIA| 2815|\n",
      "|    WEIRD NEWS| 2670|\n",
      "|         GREEN| 2622|\n",
      "|        IMPACT| 2602|\n",
      "|     WORLDPOST| 2579|\n",
      "|      RELIGION| 2556|\n",
      "|         STYLE| 2254|\n",
      "|    WORLD NEWS| 2177|\n",
      "+--------------+-----+\n",
      "only showing top 20 rows\n",
      "\n"
     ]
    }
   ],
   "source": [
    "news_category_df.groupBy(\"category\") \\\n",
    "    .count() \\\n",
    "    .orderBy(col(\"count\").desc()) \\\n",
    "    .show()"
   ]
  },
  {
   "cell_type": "code",
   "execution_count": 50,
   "metadata": {},
   "outputs": [],
   "source": [
    "sports_news = news_category_df.filter(\"category = 'SPORTS'\")"
   ]
  },
  {
   "cell_type": "code",
   "execution_count": 51,
   "metadata": {},
   "outputs": [],
   "source": [
    "sports_news = sports_news.select('category','headline')"
   ]
  },
  {
   "cell_type": "code",
   "execution_count": 52,
   "metadata": {},
   "outputs": [],
   "source": [
    "sports_news = sports_news.withColumnRenamed('category','label').withColumnRenamed('headline','text')"
   ]
  },
  {
   "cell_type": "code",
   "execution_count": 53,
   "metadata": {},
   "outputs": [],
   "source": [
    "sports_news = sports_news.select('text','label')"
   ]
  },
  {
   "cell_type": "code",
   "execution_count": 54,
   "metadata": {},
   "outputs": [],
   "source": [
    "labeled_news_with_sports = unionAll([news_with_corrected_labels,sports_news])"
   ]
  },
  {
   "cell_type": "code",
   "execution_count": 55,
   "metadata": {},
   "outputs": [
    {
     "name": "stdout",
     "output_type": "stream",
     "text": [
      "+-----------------+------+\n",
      "|            label| count|\n",
      "+-----------------+------+\n",
      "|    ENTERTAINMENT|152127|\n",
      "|         BUSINESS|115935|\n",
      "|SCIENCETECHNOLOGY|108237|\n",
      "|           HEALTH| 45616|\n",
      "|         POLITICS| 32739|\n",
      "|           SPORTS|  4167|\n",
      "+-----------------+------+\n",
      "\n"
     ]
    }
   ],
   "source": [
    "labeled_news_with_sports.groupBy(\"label\") \\\n",
    "    .count() \\\n",
    "    .orderBy(col(\"count\").desc()) \\\n",
    "    .show()"
   ]
  },
  {
   "cell_type": "code",
   "execution_count": 56,
   "metadata": {},
   "outputs": [],
   "source": [
    "training2, test2 = labeled_news_with_sports.randomSplit([0.7,0.3])"
   ]
  },
  {
   "cell_type": "code",
   "execution_count": 57,
   "metadata": {},
   "outputs": [],
   "source": [
    "training2_list = training2.collect()"
   ]
  },
  {
   "cell_type": "code",
   "execution_count": 58,
   "metadata": {},
   "outputs": [],
   "source": [
    "test2_list = test2.collect()"
   ]
  },
  {
   "cell_type": "code",
   "execution_count": 59,
   "metadata": {},
   "outputs": [],
   "source": [
    "for item in training2_list:\n",
    "    label = '__label__'+item['label']\n",
    "    label = label.replace(' ', '')\n",
    "    text = item['text']\n",
    "    the_string = label+' '+text+'\\n'\n",
    "    with open(\"combinednews2.train\", \"a\") as myfile:\n",
    "        myfile.write(the_string)"
   ]
  },
  {
   "cell_type": "code",
   "execution_count": 60,
   "metadata": {},
   "outputs": [],
   "source": [
    "for item in test2_list:\n",
    "    label = '__label__'+item['label']\n",
    "    label = label.replace(' ', '')\n",
    "    text = item['text']\n",
    "    the_string = label+' '+text+'\\n'\n",
    "    with open(\"combinednews2.test\", \"a\") as myfile:\n",
    "        myfile.write(the_string)"
   ]
  },
  {
   "cell_type": "markdown",
   "metadata": {},
   "source": [
    "Now we use fasttext:\n",
    "------------------------------\n",
    "./fasttext supervised -input /path/to/combinednews2.train -output model_combinednews2 <br/>\n",
    "Read 3M words <br/>\n",
    "Number of words:  159993 <br/>\n",
    "Number of labels: 6 <br/>\n",
    "Lets see how good our model is!\n",
    "-----------------------------------------------\n",
    "./fasttext test model_combinednews2.bin /path/to/combinednews2.test <br/>\n",
    "N\t137477 <br/>\n",
    "P@1\t0.92 <br/>\n",
    "R@1\t0.92 <br/>\n",
    "Number of examples: 137477 <br/>\n",
    "./fasttext test model_combinednews2.bin /path/to/combinednews2.train <br/>\n",
    "N\t321344 <br/>\n",
    "P@1\t0.961 <br/>\n",
    "R@1\t0.961 <br/>\n",
    "Number of examples: 321344 <br/>"
   ]
  },
  {
   "cell_type": "code",
   "execution_count": 61,
   "metadata": {},
   "outputs": [],
   "source": [
    "import fastText"
   ]
  },
  {
   "cell_type": "code",
   "execution_count": 62,
   "metadata": {},
   "outputs": [],
   "source": [
    "model = fastText.load_model('model_combinednews.bin')"
   ]
  },
  {
   "cell_type": "code",
   "execution_count": 69,
   "metadata": {},
   "outputs": [],
   "source": [
    "prediction = model.predict(['Rescuing The Rescuers: Stranded Syrian White Helmets Evacuated By Israel','The Real Hero Of The British Open Is Eddie Pepperell, Who Played His Final Round Hungover'])"
   ]
  },
  {
   "cell_type": "code",
   "execution_count": 70,
   "metadata": {},
   "outputs": [
    {
     "name": "stdout",
     "output_type": "stream",
     "text": [
      "([['__label__POLITICS'], ['__label__SPORTS']], array([[0.92183721],\n",
      "       [0.54315639]]))\n"
     ]
    }
   ],
   "source": [
    "print(prediction)"
   ]
  }
 ],
 "metadata": {
  "kernelspec": {
   "display_name": "Python 3",
   "language": "python",
   "name": "python3"
  },
  "language_info": {
   "codemirror_mode": {
    "name": "ipython",
    "version": 3
   },
   "file_extension": ".py",
   "mimetype": "text/x-python",
   "name": "python",
   "nbconvert_exporter": "python",
   "pygments_lexer": "ipython3",
   "version": "3.6.5"
  }
 },
 "nbformat": 4,
 "nbformat_minor": 2
}
